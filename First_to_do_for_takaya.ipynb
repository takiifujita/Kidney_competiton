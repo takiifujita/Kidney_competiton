{
 "cells": [
  {
   "cell_type": "code",
   "execution_count": 7,
   "metadata": {},
   "outputs": [
    {
     "name": "stdout",
     "output_type": "stream",
     "text": [
      "['/storage/hubmap-kidney-segmentation.zip']\n"
     ]
    }
   ],
   "source": [
    "!pip install --upgrade pip\n",
    "!pip install tifffile\n",
    "!pip install pillow\n",
    "!apt-get update\n",
    "!apt-get -qq install -y libsm6 libxext6 --allow-unauthenticated && pip install -q -U opencv-python\n",
    "!apt-get -qq install -y libxrender1 --allow-unauthenticated\n",
    "!pip install opencv-python\n",
    "!pip install opencv-contrib-python\n",
    "!apt-get install -y libgl1-mesa-dev\n",
    "!pip install tqdm\n",
    "!pip install zipfile\n",
    "!pip install pycuda\n",
    "!pip install --upgrade tensorflow"
   ]
  },
  {
   "cell_type": "code",
   "execution_count": null,
   "metadata": {},
   "outputs": [],
   "source": [
    "!mkdir -p ~/.kaggle\n",
    "!mv kaggle.json ~/.kaggle/\n",
    "!pip install kaggle\n",
    "!chmod 600 /root/.kaggle/kaggle.json\n",
    "!kaggle competitions download -c hubmap-kidney-segmentation"
   ]
  },
  {
   "cell_type": "code",
   "execution_count": null,
   "metadata": {},
   "outputs": [],
   "source": [
    "import os\n",
    "from glob import glob\n",
    "from zipfile import ZipFile\n",
    "\n",
    "zip_dir  = \"/storage\"\n",
    "out_dir = \"\"\n",
    "\n",
    "files = glob(os.path.join(zip_dir, '*.zip'))\n",
    "print(files)"
   ]
  },
  {
   "cell_type": "code",
   "execution_count": 20,
   "metadata": {},
   "outputs": [
    {
     "name": "stdout",
     "output_type": "stream",
     "text": [
      "<ZipInfo filename='HuBMAP-20-dataset_information.csv' compress_type=deflate file_size=2244 compress_size=709>\n",
      "<ZipInfo filename='sample_submission.csv' compress_type=deflate file_size=68 compress_size=63>\n",
      "<ZipInfo filename='test/26dc41664-anatomical-structure.json' compress_type=deflate file_size=3832 compress_size=929>\n",
      "<ZipInfo filename='test/26dc41664.tiff' compress_type=deflate file_size=4849374432 compress_size=2064778641>\n",
      "<ZipInfo filename='test/afa5e8098-anatomical-structure.json' compress_type=deflate file_size=4408 compress_size=1076>\n",
      "<ZipInfo filename='test/afa5e8098.tiff' compress_type=deflate file_size=1688532399 compress_size=1686796352>\n",
      "<ZipInfo filename='test/b2dc8411c-anatomical-structure.json' compress_type=deflate file_size=3895 compress_size=929>\n",
      "<ZipInfo filename='test/b2dc8411c.tiff' compress_type=deflate file_size=659299462 compress_size=659007208>\n",
      "<ZipInfo filename='test/b9a3865fc-anatomical-structure.json' compress_type=deflate file_size=2844 compress_size=760>\n",
      "<ZipInfo filename='test/b9a3865fc.tiff' compress_type=deflate file_size=2433792886 compress_size=2434191114>\n",
      "<ZipInfo filename='test/c68fe75ea-anatomical-structure.json' compress_type=deflate file_size=3232 compress_size=836>\n",
      "<ZipInfo filename='test/c68fe75ea.tiff' compress_type=deflate file_size=4008287088 compress_size=2470421734>\n",
      "<ZipInfo filename='train.csv' compress_type=deflate file_size=7322452 compress_size=2940409>\n",
      "<ZipInfo filename='train/0486052bb-anatomical-structure.json' compress_type=deflate file_size=3713 compress_size=980>\n",
      "<ZipInfo filename='train/0486052bb.json' compress_type=deflate file_size=108604 compress_size=15458>\n",
      "<ZipInfo filename='train/0486052bb.tiff' compress_type=deflate file_size=1252081321 compress_size=1251503488>\n",
      "<ZipInfo filename='train/095bf7a1f-anatomical-structure.json' compress_type=deflate file_size=944 compress_size=389>\n",
      "<ZipInfo filename='train/095bf7a1f.json' compress_type=deflate file_size=418092 compress_size=61313>\n",
      "<ZipInfo filename='train/095bf7a1f.tiff' compress_type=deflate file_size=4464721632 compress_size=2050605652>\n",
      "<ZipInfo filename='train/1e2425f28-anatomical-structure.json' compress_type=deflate file_size=2835 compress_size=829>\n",
      "<ZipInfo filename='train/1e2425f28.json' compress_type=deflate file_size=205435 compress_size=29919>\n",
      "<ZipInfo filename='train/1e2425f28.tiff' compress_type=deflate file_size=2588556288 compress_size=1490483419>\n",
      "<ZipInfo filename='train/2f6ecfcdf-anatomical-structure.json' compress_type=deflate file_size=2953 compress_size=796>\n",
      "<ZipInfo filename='train/2f6ecfcdf.json' compress_type=deflate file_size=149765 compress_size=20570>\n",
      "<ZipInfo filename='train/2f6ecfcdf.tiff' compress_type=deflate file_size=1099638983 compress_size=1099090944>\n",
      "<ZipInfo filename='train/54f2eec69-anatomical-structure.json' compress_type=deflate file_size=1891 compress_size=582>\n",
      "<ZipInfo filename='train/54f2eec69.json' compress_type=deflate file_size=176460 compress_size=26620>\n",
      "<ZipInfo filename='train/54f2eec69.tiff' compress_type=deflate file_size=2030958288 compress_size=814760890>\n",
      "<ZipInfo filename='train/aaa6a05cc-anatomical-structure.json' compress_type=deflate file_size=3304 compress_size=848>\n",
      "<ZipInfo filename='train/aaa6a05cc.json' compress_type=deflate file_size=78245 compress_size=10858>\n",
      "<ZipInfo filename='train/aaa6a05cc.tiff' compress_type=deflate file_size=415610696 compress_size=415588313>\n",
      "<ZipInfo filename='train/cb2d976f4-anatomical-structure.json' compress_type=deflate file_size=4736 compress_size=1092>\n",
      "<ZipInfo filename='train/cb2d976f4.json' compress_type=deflate file_size=286541 compress_size=40021>\n",
      "<ZipInfo filename='train/cb2d976f4.tiff' compress_type=deflate file_size=2621746032 compress_size=2621174445>\n",
      "<ZipInfo filename='train/e79de561c-anatomical-structure.json' compress_type=deflate file_size=1610 compress_size=545>\n",
      "<ZipInfo filename='train/e79de561c.json' compress_type=deflate file_size=548588 compress_size=43590>\n",
      "<ZipInfo filename='train/e79de561c.tiff' compress_type=deflate file_size=1311552288 compress_size=784690147>\n"
     ]
    }
   ],
   "source": [
    "with zipfile.ZipFile(\"/storage/hubmap-kidney-segmentation.zip\", 'r') as zip_data:\n",
    "        for info in zip_data.infolist():\n",
    "            zip_data.extract(member=info)\n",
    "            print(info)"
   ]
  },
  {
   "cell_type": "code",
   "execution_count": 6,
   "metadata": {},
   "outputs": [],
   "source": []
  },
  {
   "cell_type": "code",
   "execution_count": null,
   "metadata": {},
   "outputs": [],
   "source": []
  }
 ],
 "metadata": {
  "kernelspec": {
   "display_name": "Python 3",
   "language": "python",
   "name": "python3"
  },
  "language_info": {
   "codemirror_mode": {
    "name": "ipython",
    "version": 3
   },
   "file_extension": ".py",
   "mimetype": "text/x-python",
   "name": "python",
   "nbconvert_exporter": "python",
   "pygments_lexer": "ipython3",
   "version": "3.6.8"
  }
 },
 "nbformat": 4,
 "nbformat_minor": 2
}
